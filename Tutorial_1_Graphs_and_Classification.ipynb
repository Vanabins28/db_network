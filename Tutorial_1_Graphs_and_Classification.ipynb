{
 "cells": [
  {
   "cell_type": "markdown",
   "metadata": {},
   "source": [
    "# Drug DB Tutorial\n",
    "\n",
    "This tutorial will go through how to\n",
    "#1) load a networkx graph into the db_network class object\n",
    "#2) filter the database to generate a sub-set for a classification problem\n",
    "#3) load and calculate a dictionary that store the properties of drug nodes\n",
    "#4) train and evaluate a multi-label random forest model"
   ]
  },
  {
   "cell_type": "markdown",
   "metadata": {},
   "source": [
    "## Step 1) Loading a networkx graph into a db_network object"
   ]
  },
  {
   "cell_type": "code",
   "execution_count": 1,
   "metadata": {},
   "outputs": [],
   "source": [
    "import db_network as db     ### import db_network\n",
    "\n",
    "mgraph = db.unpickle('DB_multigraph.obj')    ### Lets unpickle this sample graph\n",
    "db_net = db.db_network(mgraph)      ## loads the mgraph networkx object into the db_network object"
   ]
  },
  {
   "cell_type": "code",
   "execution_count": 2,
   "metadata": {},
   "outputs": [
    {
     "data": {
      "text/plain": [
       "['Q9Y2H1',\n",
       " 'CHEMBL1725279',\n",
       " 'CHEMBL509032',\n",
       " 'CHEMBL1908397',\n",
       " 'CHEMBL1721885',\n",
       " 'CHEMBL388978',\n",
       " 'CHEMBL603469',\n",
       " 'CHEMBL574738',\n",
       " 'CHEMBL607707',\n",
       " 'CHEMBL572878',\n",
       " 'CHEMBL535']"
      ]
     },
     "execution_count": 2,
     "metadata": {},
     "output_type": "execute_result"
    }
   ],
   "source": [
    "db_net.get_n_neighbors('Q9Y2H1',1)  ### Get the nearest 1-hop neighbor of node Q9Y2H1"
   ]
  },
  {
   "cell_type": "markdown",
   "metadata": {},
   "source": [
    "# Step 2) filter the database to generate a sub-set for a classification problem"
   ]
  },
  {
   "cell_type": "code",
   "execution_count": 3,
   "metadata": {},
   "outputs": [],
   "source": [
    "edge_filter_dict={'weight': lambda x : x > 3.0}   ## only include drug-protein interactions with pChembl > 3.0\n",
    "is_multilabel = True            ### flag for Multilabel classification\n",
    "sel_nodes_list = ['P11362','P12931','P00533']    ### Select protein nodes\n",
    "null_nodes_list = ['P24941','P00734']      ## Null node set (optional). Null proteins represent proteins that specifically don't bind the sel_node _list\n",
    "X_mol,y_labels = db.get_class_set(db_net,edge_filter_dict,sel_nodes_list,null_nodes_list,is_multilabel)"
   ]
  },
  {
   "cell_type": "code",
   "execution_count": 10,
   "metadata": {},
   "outputs": [
    {
     "data": {
      "text/plain": [
       "(19277, 19277)"
      ]
     },
     "execution_count": 10,
     "metadata": {},
     "output_type": "execute_result"
    }
   ],
   "source": [
    "len(X_mol), len(y_labels)   "
   ]
  },
  {
   "cell_type": "code",
   "execution_count": null,
   "metadata": {},
   "outputs": [],
   "source": []
  },
  {
   "cell_type": "code",
   "execution_count": null,
   "metadata": {},
   "outputs": [],
   "source": []
  },
  {
   "cell_type": "markdown",
   "metadata": {},
   "source": [
    "# Step 3) load and calculate properties of drug nodes"
   ]
  },
  {
   "cell_type": "code",
   "execution_count": 4,
   "metadata": {},
   "outputs": [],
   "source": [
    "smiles_dict = db.unpickle('smiles_dict.obj')   ### dictionary of smiles for each CHEMBL molecule"
   ]
  },
  {
   "cell_type": "code",
   "execution_count": 5,
   "metadata": {},
   "outputs": [],
   "source": [
    "prop_class = db.db_node_dict(smiles_dict) ## converts property dict to db_node_dict object"
   ]
  },
  {
   "cell_type": "code",
   "execution_count": 6,
   "metadata": {},
   "outputs": [],
   "source": [
    "from rdkit import DataStructs\n",
    "from rdkit.Chem.Fingerprints import FingerprintMols\n",
    "from rdkit.Chem import MACCSkeys\n",
    "from rdkit import Chem\n",
    "from rdkit.Chem import Descriptors\n",
    "from rdkit.Chem import Descriptors3D\n",
    "from rdkit.Chem import AllChem\n",
    "from sklearn.preprocessing import MultiLabelBinarizer\n",
    "from sklearn.model_selection import train_test_split"
   ]
  },
  {
   "cell_type": "code",
   "execution_count": 7,
   "metadata": {},
   "outputs": [],
   "source": [
    "#### Generating MACCS fingerprint of each molecule from the smiles, use these as features\n",
    "\n",
    "X_hash_vals = []\n",
    "for drug in X_mol:\n",
    "    dd = prop_class.prop_dict[drug]['smiles']\n",
    "    m = Chem.MolFromSmiles(dd)\n",
    "    AllChem.Compute2DCoords(m)\n",
    "    X_hash_vals.append(map(int,DataStructs.BitVectToText(MACCSkeys.GenMACCSKeys(m))))"
   ]
  },
  {
   "cell_type": "code",
   "execution_count": 8,
   "metadata": {},
   "outputs": [],
   "source": [
    "### perform one-hot encoding on the interacting proteins\n",
    "mlt = MultiLabelBinarizer().fit(y_labels)\n",
    "pred_classes = mlt.transform(y_labels)\n"
   ]
  },
  {
   "cell_type": "code",
   "execution_count": 9,
   "metadata": {},
   "outputs": [],
   "source": [
    "X_train, X_test, y_train, y_test = train_test_split(X_hash_vals,pred_classes)  ## train/test split 75/25"
   ]
  },
  {
   "cell_type": "code",
   "execution_count": 10,
   "metadata": {},
   "outputs": [],
   "source": [
    "labels = mlt.classes_   ## get labels of one-hot encoding"
   ]
  },
  {
   "cell_type": "code",
   "execution_count": null,
   "metadata": {},
   "outputs": [],
   "source": []
  },
  {
   "cell_type": "code",
   "execution_count": 11,
   "metadata": {},
   "outputs": [
    {
     "name": "stderr",
     "output_type": "stream",
     "text": [
      "C:\\Users\\jkatigba\\Anaconda2\\lib\\site-packages\\numpy\\core\\fromnumeric.py:1424: RuntimeWarning: overflow encountered in reduce\n",
      "  return asanyarray(a).trace(offset=offset, axis1=axis1, axis2=axis2, dtype=dtype, out=out)\n",
      "C:\\Users\\jkatigba\\Anaconda2\\lib\\site-packages\\rdkit\\Chem\\Graphs.py:48: RuntimeWarning: invalid value encountered in multiply\n",
      "  Bn = An - res[n] * I\n"
     ]
    }
   ],
   "source": [
    "### calculate other properties from the smiles using the rd_mol helper object\n",
    "prop_list = db.rd_mol(dd).rdkit_base_info['2D_Props']\n",
    "\n",
    "\n",
    "X_prop_vals = []\n",
    "for drug in X_mol:\n",
    "    dd = prop_class.prop_dict[drug]['smiles']\n",
    "    rd_mol = db.rd_mol(dd)\n",
    "    rd_mol.get_2d_properties(prop_list)\n",
    "    X_prop_vals.append([rd_mol.prop_2d_collector[prop] for prop in prop_list])\n"
   ]
  },
  {
   "cell_type": "code",
   "execution_count": null,
   "metadata": {},
   "outputs": [],
   "source": []
  },
  {
   "cell_type": "markdown",
   "metadata": {},
   "source": [
    "# Step 4) train and evaluate a multi-label random forest model\n"
   ]
  },
  {
   "cell_type": "code",
   "execution_count": 12,
   "metadata": {},
   "outputs": [],
   "source": [
    "from sklearn.ensemble import RandomForestClassifier\n",
    "from sklearn.linear_model import LogisticRegression\n",
    "from sklearn.metrics import accuracy_score,precision_score,recall_score,f1_score,roc_auc_score, confusion_matrix"
   ]
  },
  {
   "cell_type": "code",
   "execution_count": 13,
   "metadata": {},
   "outputs": [
    {
     "data": {
      "text/plain": [
       "RandomForestClassifier(bootstrap=True, class_weight=None, criterion='entropy',\n",
       "            max_depth=None, max_features='auto', max_leaf_nodes=None,\n",
       "            min_impurity_decrease=0.0, min_impurity_split=None,\n",
       "            min_samples_leaf=1, min_samples_split=2,\n",
       "            min_weight_fraction_leaf=0.0, n_estimators=100, n_jobs=1,\n",
       "            oob_score=False, random_state=123, verbose=0, warm_start=False)"
      ]
     },
     "execution_count": 13,
     "metadata": {},
     "output_type": "execute_result"
    }
   ],
   "source": [
    "### training a random forest model on the MACCS fingerprint\n",
    "forest = RandomForestClassifier(n_estimators=100, criterion = 'entropy', random_state = 123)\n",
    "forest.fit(X_train,y_train)"
   ]
  },
  {
   "cell_type": "code",
   "execution_count": 14,
   "metadata": {},
   "outputs": [],
   "source": [
    "## prediction\n",
    "y_pred = forest.predict(X_test)"
   ]
  },
  {
   "cell_type": "code",
   "execution_count": 15,
   "metadata": {},
   "outputs": [],
   "source": [
    "### printing out the results\n",
    "result_dict = {}\n",
    "for lx,label in enumerate(labels):\n",
    "    result_dict[label]={}\n",
    "    result_dict[label]['accuracy']=accuracy_score(y_test[:,lx],y_pred[:,lx])\n",
    "    result_dict[label]['recall']=recall_score(y_test[:,lx],y_pred[:,lx])\n",
    "    result_dict[label]['precision']=precision_score(y_test[:,lx],y_pred[:,lx])\n",
    "    result_dict[label]['f1_score']=f1_score(y_test[:,lx],y_pred[:,lx])\n",
    "    result_dict[label]['auroc']=roc_auc_score(y_test[:,lx],y_pred[:,lx])\n"
   ]
  },
  {
   "cell_type": "code",
   "execution_count": 16,
   "metadata": {},
   "outputs": [
    {
     "name": "stdout",
     "output_type": "stream",
     "text": [
      "('P00533', 'accuracy:0.954', 'recall:0.889', 'precision:0.954', 'f1_score:0.921', 'auroc:0.936')\n",
      "('P11362', 'accuracy:0.964', 'recall:0.75', 'precision:0.947', 'f1_score:0.837', 'auroc:0.872')\n",
      "('P12931', 'accuracy:0.951', 'recall:0.76', 'precision:0.938', 'f1_score:0.84', 'auroc:0.875')\n",
      "('null', 'accuracy:0.959', 'recall:0.95', 'precision:0.961', 'f1_score:0.955', 'auroc:0.958')\n"
     ]
    }
   ],
   "source": [
    "### Multi-label random forest performs well in classifying drugs by their protein partner!\n",
    "for label in labels:\n",
    "    print(label,'accuracy:'+str(round(result_dict[label]['accuracy'],3)),'recall:'+str(round(result_dict[label]['recall'],3)),'precision:'+str(round(result_dict[label]['precision'],3)),'f1_score:'+str(round(result_dict[label]['f1_score'],3)),'auroc:'+str(round(result_dict[label]['auroc'],3)))"
   ]
  },
  {
   "cell_type": "code",
   "execution_count": null,
   "metadata": {},
   "outputs": [],
   "source": []
  }
 ],
 "metadata": {
  "kernelspec": {
   "display_name": "Python 2",
   "language": "python",
   "name": "python2"
  },
  "language_info": {
   "codemirror_mode": {
    "name": "ipython",
    "version": 2
   },
   "file_extension": ".py",
   "mimetype": "text/x-python",
   "name": "python",
   "nbconvert_exporter": "python",
   "pygments_lexer": "ipython2",
   "version": "2.7.15"
  }
 },
 "nbformat": 4,
 "nbformat_minor": 2
}
